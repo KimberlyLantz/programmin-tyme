{
 "cells": [
  {
   "cell_type": "code",
   "execution_count": null,
   "metadata": {},
   "outputs": [],
   "source": [
    "import this"
   ]
  },
  {
   "cell_type": "code",
   "execution_count": null,
   "metadata": {},
   "outputs": [],
   "source": [
    "x = 14 + 12\n",
    "x"
   ]
  },
  {
   "cell_type": "code",
   "execution_count": null,
   "metadata": {},
   "outputs": [],
   "source": [
    "14 + 12"
   ]
  },
  {
   "cell_type": "code",
   "execution_count": null,
   "metadata": {},
   "outputs": [],
   "source": [
    "a = 14 + 4\n",
    "a"
   ]
  },
  {
   "cell_type": "code",
   "execution_count": null,
   "metadata": {},
   "outputs": [],
   "source": [
    "b = 55 + 13\n",
    "b"
   ]
  },
  {
   "cell_type": "code",
   "execution_count": null,
   "metadata": {},
   "outputs": [],
   "source": [
    "c = a + b\n",
    "c"
   ]
  },
  {
   "cell_type": "markdown",
   "metadata": {},
   "source": [
    "# Chopin list\n",
    "4. bananas\n",
    "7. pickles\n",
    "3. peanut butter\n"
   ]
  },
  {
   "cell_type": "markdown",
   "metadata": {},
   "source": [
    "$\\sum_{i=1}^{N} 2^{-i} \\approx 1$\n"
   ]
  },
  {
   "cell_type": "code",
   "execution_count": null,
   "metadata": {},
   "outputs": [],
   "source": [
    "for n in range(1, 64):\n",
    "    print(2**n)"
   ]
  },
  {
   "cell_type": "code",
   "execution_count": null,
   "metadata": {},
   "outputs": [],
   "source": [
    "import pandas as pd\n",
    "data = pd.read_csv('gapminder_gdp_oceania.csv')\n",
    "print(data)"
   ]
  },
  {
   "cell_type": "code",
   "execution_count": 4,
   "metadata": {},
   "outputs": [
    {
     "data": {
      "text/html": [
       "<div>\n",
       "<style scoped>\n",
       "    .dataframe tbody tr th:only-of-type {\n",
       "        vertical-align: middle;\n",
       "    }\n",
       "\n",
       "    .dataframe tbody tr th {\n",
       "        vertical-align: top;\n",
       "    }\n",
       "\n",
       "    .dataframe thead th {\n",
       "        text-align: right;\n",
       "    }\n",
       "</style>\n",
       "<table border=\"1\" class=\"dataframe\">\n",
       "  <thead>\n",
       "    <tr style=\"text-align: right;\">\n",
       "      <th></th>\n",
       "      <th>Tofu Cream Cheese</th>\n",
       "      <th>silken tofu</th>\n",
       "      <th>refined coconut oil</th>\n",
       "      <th>lemon/vinegar</th>\n",
       "      <th>sugar</th>\n",
       "      <th>salt</th>\n",
       "      <th>Unnamed: 6</th>\n",
       "      <th>Unnamed: 7</th>\n",
       "      <th>Unnamed: 8</th>\n",
       "      <th>Unnamed: 9</th>\n",
       "      <th>Unnamed: 10</th>\n",
       "    </tr>\n",
       "  </thead>\n",
       "  <tbody>\n",
       "    <tr>\n",
       "      <th>0</th>\n",
       "      <td>Probiotic Cultured Cheese</td>\n",
       "      <td>cashews/almonds</td>\n",
       "      <td>garlic</td>\n",
       "      <td>lemon/vinegar</td>\n",
       "      <td>nutritional yeast</td>\n",
       "      <td>salt</td>\n",
       "      <td>probiotic capsules</td>\n",
       "      <td>NaN</td>\n",
       "      <td>NaN</td>\n",
       "      <td>NaN</td>\n",
       "      <td>NaN</td>\n",
       "    </tr>\n",
       "    <tr>\n",
       "      <th>1</th>\n",
       "      <td>Cultured Butter</td>\n",
       "      <td>cashews/almonds</td>\n",
       "      <td>vegan yogurt/probiotic</td>\n",
       "      <td>refined coconut oil</td>\n",
       "      <td>canola oil</td>\n",
       "      <td>lecithin granules</td>\n",
       "      <td>NaN</td>\n",
       "      <td>NaN</td>\n",
       "      <td>NaN</td>\n",
       "      <td>NaN</td>\n",
       "      <td>NaN</td>\n",
       "    </tr>\n",
       "    <tr>\n",
       "      <th>2</th>\n",
       "      <td>Pistachio Cheese</td>\n",
       "      <td>pistachios</td>\n",
       "      <td>nutritional yeast</td>\n",
       "      <td>maple syrup</td>\n",
       "      <td>agar agar</td>\n",
       "      <td>garlic</td>\n",
       "      <td>lemon</td>\n",
       "      <td>apple cider vinegar</td>\n",
       "      <td>salt</td>\n",
       "      <td>NaN</td>\n",
       "      <td>NaN</td>\n",
       "    </tr>\n",
       "    <tr>\n",
       "      <th>3</th>\n",
       "      <td>Spicy Almond Cheese</td>\n",
       "      <td>almonds</td>\n",
       "      <td>chili pepper or flakes</td>\n",
       "      <td>tapioca flour</td>\n",
       "      <td>nutritional yeast</td>\n",
       "      <td>agar agar</td>\n",
       "      <td>miso</td>\n",
       "      <td>lemon</td>\n",
       "      <td>apple cider vin.</td>\n",
       "      <td>black pepper</td>\n",
       "      <td>salt</td>\n",
       "    </tr>\n",
       "    <tr>\n",
       "      <th>4</th>\n",
       "      <td>Homemade Vegan Cheese</td>\n",
       "      <td>cashews</td>\n",
       "      <td>nutritional yeast</td>\n",
       "      <td>onion powder</td>\n",
       "      <td>salt</td>\n",
       "      <td>soy milk</td>\n",
       "      <td>agar agar</td>\n",
       "      <td>canola oil</td>\n",
       "      <td>miso</td>\n",
       "      <td>lemon</td>\n",
       "      <td>truffle oil (opt.)</td>\n",
       "    </tr>\n",
       "  </tbody>\n",
       "</table>\n",
       "</div>"
      ],
      "text/plain": [
       "           Tofu Cream Cheese      silken tofu     refined coconut oil  \\\n",
       "0  Probiotic Cultured Cheese  cashews/almonds                  garlic   \n",
       "1            Cultured Butter  cashews/almonds  vegan yogurt/probiotic   \n",
       "2           Pistachio Cheese       pistachios       nutritional yeast   \n",
       "3        Spicy Almond Cheese          almonds  chili pepper or flakes   \n",
       "4      Homemade Vegan Cheese          cashews       nutritional yeast   \n",
       "\n",
       "         lemon/vinegar              sugar               salt  \\\n",
       "0        lemon/vinegar  nutritional yeast               salt   \n",
       "1  refined coconut oil         canola oil  lecithin granules   \n",
       "2          maple syrup          agar agar             garlic   \n",
       "3        tapioca flour  nutritional yeast          agar agar   \n",
       "4         onion powder               salt           soy milk   \n",
       "\n",
       "           Unnamed: 6           Unnamed: 7        Unnamed: 8    Unnamed: 9  \\\n",
       "0  probiotic capsules                  NaN               NaN           NaN   \n",
       "1                 NaN                  NaN               NaN           NaN   \n",
       "2               lemon  apple cider vinegar              salt           NaN   \n",
       "3                miso                lemon  apple cider vin.  black pepper   \n",
       "4           agar agar           canola oil              miso         lemon   \n",
       "\n",
       "          Unnamed: 10  \n",
       "0                 NaN  \n",
       "1                 NaN  \n",
       "2                 NaN  \n",
       "3                salt  \n",
       "4  truffle oil (opt.)  "
      ]
     },
     "execution_count": 4,
     "metadata": {},
     "output_type": "execute_result"
    }
   ],
   "source": [
    "import pandas as pd\n",
    "df = pd.read_csv('Vegan Cheese Recipes - Sheet1.csv')\n",
    "df"
   ]
  },
  {
   "cell_type": "code",
   "execution_count": 5,
   "metadata": {},
   "outputs": [
    {
     "data": {
      "text/plain": [
       "Tofu Cream Cheese         Pistachio Cheese\n",
       "silken tofu                     pistachios\n",
       "refined coconut oil      nutritional yeast\n",
       "lemon/vinegar                  maple syrup\n",
       "sugar                            agar agar\n",
       "salt                                garlic\n",
       "Unnamed: 6                           lemon\n",
       "Unnamed: 7             apple cider vinegar\n",
       "Unnamed: 8                            salt\n",
       "Unnamed: 9                             NaN\n",
       "Unnamed: 10                            NaN\n",
       "Name: 2, dtype: object"
      ]
     },
     "execution_count": 5,
     "metadata": {},
     "output_type": "execute_result"
    }
   ],
   "source": [
    "df.iloc[2]"
   ]
  },
  {
   "cell_type": "code",
   "execution_count": null,
   "metadata": {},
   "outputs": [],
   "source": []
  }
 ],
 "metadata": {
  "kernelspec": {
   "display_name": "Python 3",
   "language": "python",
   "name": "python3"
  },
  "language_info": {
   "codemirror_mode": {
    "name": "ipython",
    "version": 3
   },
   "file_extension": ".py",
   "mimetype": "text/x-python",
   "name": "python",
   "nbconvert_exporter": "python",
   "pygments_lexer": "ipython3",
   "version": "3.7.4"
  }
 },
 "nbformat": 4,
 "nbformat_minor": 4
}
